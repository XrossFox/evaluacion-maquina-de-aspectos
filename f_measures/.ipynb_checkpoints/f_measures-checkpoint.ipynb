{
 "cells": [
  {
   "cell_type": "code",
   "execution_count": 1,
   "metadata": {},
   "outputs": [
    {
     "data": {
      "text/plain": [
       "'\\nhttps://stackoverflow.com/questions/21646791/convert-python-list-to-pandas-series\\nhttps://stackoverflow.com/questions/2148543/how-to-write-a-confusion-matrix-in-python/48087308\\nhttps://scikit-learn.org/stable/modules/generated/sklearn.metrics.f1_score.html\\nhttps://scikit-learn.org/stable/modules/generated/sklearn.metrics.precision_recall_fscore_support.html\\n\\n\\n\\n../datasets/clasificado/comentarios_clasificados.json\\nLeer jsons\\nCrear Matríz de Confusión con Pandas\\nCalcular f-score con scikit\\n'"
      ]
     },
     "execution_count": 1,
     "metadata": {},
     "output_type": "execute_result"
    }
   ],
   "source": [
    "\"\"\"\n",
    "https://stackoverflow.com/questions/21646791/convert-python-list-to-pandas-series\n",
    "https://stackoverflow.com/questions/2148543/how-to-write-a-confusion-matrix-in-python/48087308\n",
    "https://scikit-learn.org/stable/modules/generated/sklearn.metrics.f1_score.html\n",
    "https://scikit-learn.org/stable/modules/generated/sklearn.metrics.precision_recall_fscore_support.html\n",
    "\n",
    "\n",
    "\n",
    "../datasets/clasificado/comentarios_clasificados.json\n",
    "Leer jsons\n",
    "Crear Matríz de Confusión con Pandas\n",
    "Calcular f-score con scikit\n",
    "\"\"\""
   ]
  },
  {
   "cell_type": "code",
   "execution_count": 2,
   "metadata": {},
   "outputs": [
    {
     "name": "stdout",
     "output_type": "stream",
     "text": [
      "[{'aspectos': {'AvailabilityAndScalability': [],\n",
      "               'Deployability': [],\n",
      "               'Interoperability': ['monadic', 'monadic'],\n",
      "               'Maintainability': [],\n",
      "               'Performance': [],\n",
      "               'Reliability': [],\n",
      "               'Securability': []},\n",
      "  'clas_manual': {'AvailabilityAndScalability': None,\n",
      "                  'Deployability': None,\n",
      "                  'Interoperability': 0,\n",
      "                  'Maintainability': None,\n",
      "                  'Performance': None,\n",
      "                  'Reliability': None,\n",
      "                  'Securability': None},\n",
      "  'clas_modelo': {'AvailabilityAndScalability': None,\n",
      "                  'Deployability': None,\n",
      "                  'Interoperability': -1,\n",
      "                  'Maintainability': None,\n",
      "                  'Performance': None,\n",
      "                  'Reliability': None,\n",
      "                  'Securability': None},\n",
      "  'clas_modelo_neutro': {'AvailabilityAndScalability': None,\n",
      "                         'Deployability': None,\n",
      "                         'Interoperability': 0,\n",
      "                         'Maintainability': None,\n",
      "                         'Performance': None,\n",
      "                         'Reliability': None,\n",
      "                         'Securability': None},\n",
      "  'clas_tb': {'AvailabilityAndScalability': None,\n",
      "              'Deployability': None,\n",
      "              'Interoperability': 0,\n",
      "              'Maintainability': None,\n",
      "              'Performance': None,\n",
      "              'Reliability': None,\n",
      "              'Securability': None},\n",
      "  'clas_tb_no_neutro': {'AvailabilityAndScalability': None,\n",
      "                        'Deployability': None,\n",
      "                        'Interoperability': -1,\n",
      "                        'Maintainability': None,\n",
      "                        'Performance': None,\n",
      "                        'Reliability': None,\n",
      "                        'Securability': None},\n",
      "  'comentario': 'yes, monadic i/o is a consequence of haskell being lazy. '\n",
      "                'specifically, though, monadic i/o is a consequence of haskell '\n",
      "                'being pure, which is effectively necessary for a lazy '\n",
      "                'language to be predictable.† this is easy to illustrate with '\n",
      "                'an example. imagine for a moment that haskell were not pure, '\n",
      "                'but it was still lazy. instead of code_removed having the '\n",
      "                'type code_removed, it would simply have the type '\n",
      "                'code_removed, and it would print a string to stdout as a '\n",
      "                'side-effect. the trouble with this is that this would only '\n",
      "                'happen when code_removed is actually called, and in a lazy '\n",
      "                'language, functions are only called when their results are '\n",
      "                'needed. here’s the trouble: code_removed produces '\n",
      "                'code_removed. looking at a value of type code_removed is '\n",
      "                'useless, because code_removed means “boring”. that means that '\n",
      "                'this program would do what you expect: code_removed but i '\n",
      "                'think you can agree that programming style is pretty odd. the '\n",
      "                'code_removed is necessary, however, because it forces the '\n",
      "                'evaluation of the call to code_removed by matching against '\n",
      "                'code_removed. if you tweak the program slightly: code_removed '\n",
      "                '…now it only prints code_removed, and the first call isn’t '\n",
      "                'evaluated at all. this actually gets even worse, though, '\n",
      "                'because it becomes even harder to predict as soon as you '\n",
      "                'start trying to do any actual programming. consider this '\n",
      "                'program: code_removed does this program print out '\n",
      "                'code_removed or code_removed? without knowing the order in '\n",
      "                'which code_removed evaluates its arguments, we don’t know. '\n",
      "                'and in haskell, evaluation order isn’t even always '\n",
      "                'well-defined, so it’s entirely possible that the order in '\n",
      "                'which the two effects are executed is actually completely '\n",
      "                'impossible to determine! this problem doesn’t arise in strict '\n",
      "                'languages with a well-defined evaluation order, but in a lazy '\n",
      "                'language like haskell, we need some additional structure to '\n",
      "                'ensure side-effects are (a) actually evaluated and (b) '\n",
      "                'executed in the correct order. monads happen to be an '\n",
      "                'interface that elegantly provide the necessary structure to '\n",
      "                'enforce that order. why is that? and how is that even '\n",
      "                'possible? well, the monadic interface provides a notion of '\n",
      "                'data dependency in the signature for code_removed, which '\n",
      "                'enforces a well-defined evaluation order. haskell’s '\n",
      "                'implementation of code_removed is “magic”, in the sense that '\n",
      "                'it’s implemented in the runtime, but the choice of the '\n",
      "                'monadic interface is far from arbitrary. it seems to be a '\n",
      "                'fairly good way to encode the notion of sequential actions in '\n",
      "                'a pure language, and it makes it possible for haskell to be '\n",
      "                'lazy and referentially transparent without sacrificing '\n",
      "                'predictable sequencing of effects. it’s worth noting that '\n",
      "                'monads are not the only way to encode side-effects in a pure '\n",
      "                'way—in fact, historically, they’re not even the only way '\n",
      "                'haskell handled side-effects. don’t be misled into thinking '\n",
      "                'that monads are only for i/o (they’re not), only useful in a '\n",
      "                'lazy language (they’re plenty useful to maintain purity even '\n",
      "                'in a strict language), only useful in a pure language (many '\n",
      "                'things are useful monads that aren’t just for enforcing '\n",
      "                'purity), or that you needs monads to do i/o (you don’t). they '\n",
      "                'do seem to have worked out pretty well in haskell for those '\n",
      "                'purposes, though. † regarding this, simon peyton jones once '\n",
      "                'noted that “laziness keeps you honest” with respect to '\n",
      "                'purity.'},\n",
      " {'aspectos': {'AvailabilityAndScalability': [],\n",
      "               'Deployability': [],\n",
      "               'Interoperability': [],\n",
      "               'Maintainability': ['largely'],\n",
      "               'Performance': [],\n",
      "               'Reliability': [],\n",
      "               'Securability': []},\n",
      "  'clas_manual': {'AvailabilityAndScalability': None,\n",
      "                  'Deployability': None,\n",
      "                  'Interoperability': None,\n",
      "                  'Maintainability': 0,\n",
      "                  'Performance': None,\n",
      "                  'Reliability': None,\n",
      "                  'Securability': None},\n",
      "  'clas_modelo': {'AvailabilityAndScalability': None,\n",
      "                  'Deployability': None,\n",
      "                  'Interoperability': None,\n",
      "                  'Maintainability': -1,\n",
      "                  'Performance': None,\n",
      "                  'Reliability': None,\n",
      "                  'Securability': None},\n",
      "  'clas_modelo_neutro': {'AvailabilityAndScalability': None,\n",
      "                         'Deployability': None,\n",
      "                         'Interoperability': None,\n",
      "                         'Maintainability': 0,\n",
      "                         'Performance': None,\n",
      "                         'Reliability': None,\n",
      "                         'Securability': None},\n",
      "  'clas_tb': {'AvailabilityAndScalability': None,\n",
      "              'Deployability': None,\n",
      "              'Interoperability': None,\n",
      "              'Maintainability': 1,\n",
      "              'Performance': None,\n",
      "              'Reliability': None,\n",
      "              'Securability': None},\n",
      "  'clas_tb_no_neutro': {'AvailabilityAndScalability': None,\n",
      "                        'Deployability': None,\n",
      "                        'Interoperability': None,\n",
      "                        'Maintainability': 1,\n",
      "                        'Performance': None,\n",
      "                        'Reliability': None,\n",
      "                        'Securability': None},\n",
      "  'comentario': 'i think one thing one should ask is:if monads are the '\n",
      "                'solution to x, and we add a different solution to x to the '\n",
      "                'language, then what are monads for?let’s say you have '\n",
      "                'imperative io. then promises are a monad but then you could '\n",
      "                'just add language support for async and promises are not '\n",
      "                'really needed as a monad anymore.a more functional '\n",
      "                'replacement for monads could be something like algebraic '\n",
      "                'effects. these could replace monads completely or they could '\n",
      "                'be like multi core ocaml and only give you one shot '\n",
      "                'continuations (so not allowing for list or other multi-shot '\n",
      "                'monads).in this context i like to think about the '\n",
      "                'continuation monad. in haskell:code_removed this means “some '\n",
      "                'computation yielding a r which got paused part-done having '\n",
      "                'just yielded an a. in some sense all monads are expressible '\n",
      "                'in terms of cont. i feel like this is largely the essence of '\n",
      "                'why it is useful to have monads: they express computations '\n",
      "                'which happen with some context, able to switch back and forth '\n",
      "                'between things in the context and things in the normal '\n",
      "                'computation. i don’t think sequencing evaluation is so '\n",
      "                'important to the definition.'}]\n"
     ]
    }
   ],
   "source": [
    "import json\n",
    "from pprint import pprint\n",
    "comentarios = None\n",
    "with open(\"../datasets/clasificado/comentarios_clasificados_con_manual.json\", mode=\"rt\", encoding=\"utf-8\") as archivo:\n",
    "    comentarios = json.load(archivo)\n",
    "pprint(comentarios[:2])"
   ]
  },
  {
   "cell_type": "code",
   "execution_count": 3,
   "metadata": {},
   "outputs": [
    {
     "name": "stdout",
     "output_type": "stream",
     "text": [
      "Predicted   -1   1\n",
      "Actual            \n",
      "-1         168  59\n",
      " 1          53  64\n"
     ]
    }
   ],
   "source": [
    "# matriz nb no neutros vs textblob no neutros\n",
    "\n",
    "lista_actual = list()\n",
    "lista_pred = list()\n",
    "for comentario in comentarios:\n",
    "    for clase in comentario[\"clas_modelo\"]:\n",
    "        if comentario[\"clas_modelo\"][clase] != None:\n",
    "            lista_actual.append(comentario[\"clas_modelo\"][clase])\n",
    "            lista_pred.append(comentario[\"clas_tb_no_neutro\"][clase])\n",
    "\n",
    "import pandas as pd\n",
    "y_actu = pd.Series(lista_actual, name='Actual')\n",
    "y_pred = pd.Series(lista_pred, name='Predicted')\n",
    "df_confusion = pd.crosstab(y_actu, y_pred)\n",
    "print(df_confusion)"
   ]
  },
  {
   "cell_type": "code",
   "execution_count": 4,
   "metadata": {},
   "outputs": [
    {
     "name": "stdout",
     "output_type": "stream",
     "text": [
      "Predicted  -1   0   1\n",
      "Actual               \n",
      "-1         20  76  57\n",
      " 0          0  69   2\n",
      " 1         16  40  64\n"
     ]
    }
   ],
   "source": [
    "# matriz nb 3 clases vs textblob\n",
    "\n",
    "lista_actual = list()\n",
    "lista_pred = list()\n",
    "for comentario in comentarios:\n",
    "    for clase in comentario[\"clas_modelo\"]:\n",
    "        if comentario[\"clas_modelo\"][clase] != None:\n",
    "            lista_actual.append(comentario[\"clas_modelo_neutro\"][clase])\n",
    "            lista_pred.append(comentario[\"clas_tb\"][clase])\n",
    "\n",
    "import pandas as pd\n",
    "y_actu = pd.Series(lista_actual, name='Actual')\n",
    "y_pred = pd.Series(lista_pred, name='Predicted')\n",
    "df_confusion = pd.crosstab(y_actu, y_pred)\n",
    "print(df_confusion)"
   ]
  },
  {
   "cell_type": "code",
   "execution_count": 5,
   "metadata": {},
   "outputs": [
    {
     "name": "stdout",
     "output_type": "stream",
     "text": [
      "Predicted  -1   0   1\n",
      "Actual               \n",
      "-1         45  65  43\n",
      " 0         11  46  14\n",
      " 1         11  46  63\n"
     ]
    }
   ],
   "source": [
    "# matriz nb 3 clases vs manual\n",
    "\n",
    "lista_actual = list()\n",
    "lista_pred = list()\n",
    "for comentario in comentarios:\n",
    "    for clase in comentario[\"clas_modelo\"]:\n",
    "        if comentario[\"clas_modelo\"][clase] != None:\n",
    "            lista_actual.append(comentario[\"clas_modelo_neutro\"][clase])\n",
    "            lista_pred.append(comentario[\"clas_manual\"][clase])\n",
    "\n",
    "import pandas as pd\n",
    "y_actu = pd.Series(lista_actual, name='Actual')\n",
    "y_pred = pd.Series(lista_pred, name='Predicted')\n",
    "df_confusion = pd.crosstab(y_actu, y_pred)\n",
    "print(df_confusion)"
   ]
  },
  {
   "cell_type": "code",
   "execution_count": 6,
   "metadata": {},
   "outputs": [
    {
     "name": "stdout",
     "output_type": "stream",
     "text": [
      "Predicted  -1   0   1\n",
      "Actual               \n",
      "-1         20  39   8\n",
      " 0         15  99  43\n",
      " 1          1  47  72\n"
     ]
    }
   ],
   "source": [
    "# matriz nb 3 clases vs manual\n",
    "\n",
    "lista_actual = list()\n",
    "lista_pred = list()\n",
    "for comentario in comentarios:\n",
    "    for clase in comentario[\"clas_modelo\"]:\n",
    "        if comentario[\"clas_modelo\"][clase] != None:\n",
    "            lista_actual.append(comentario[\"clas_manual\"][clase])\n",
    "            lista_pred.append(comentario[\"clas_tb\"][clase])\n",
    "\n",
    "import pandas as pd\n",
    "y_actu = pd.Series(lista_actual, name='Actual')\n",
    "y_pred = pd.Series(lista_pred, name='Predicted')\n",
    "df_confusion = pd.crosstab(y_actu, y_pred)\n",
    "print(df_confusion)"
   ]
  },
  {
   "cell_type": "code",
   "execution_count": 13,
   "metadata": {},
   "outputs": [
    {
     "name": "stdout",
     "output_type": "stream",
     "text": [
      "Predicted  -1   0   1\n",
      "Actual               \n",
      "-1         20  15   1\n",
      " 0         39  99  47\n",
      " 1          8  43  72\n"
     ]
    }
   ],
   "source": [
    "# matriz TextBlob vs manual\n",
    "\n",
    "lista_actual = list()\n",
    "lista_pred = list()\n",
    "for comentario in comentarios:\n",
    "    for clase in comentario[\"clas_modelo\"]:\n",
    "        if comentario[\"clas_modelo\"][clase] != None:\n",
    "            lista_actual.append(comentario[\"clas_tb\"][clase])\n",
    "            lista_pred.append(comentario[\"clas_manual\"][clase])\n",
    "\n",
    "import pandas as pd\n",
    "y_actu = pd.Series(lista_actual, name='Actual')\n",
    "y_pred = pd.Series(lista_pred, name='Predicted')\n",
    "df_confusion = pd.crosstab(y_actu, y_pred)\n",
    "print(df_confusion)"
   ]
  },
  {
   "cell_type": "code",
   "execution_count": 7,
   "metadata": {},
   "outputs": [
    {
     "name": "stdout",
     "output_type": "stream",
     "text": [
      "117 .. 227\n"
     ]
    }
   ],
   "source": [
    "pos = 0\n",
    "neg = 0\n",
    "for comentario in comentarios:\n",
    "    for clase in comentario[\"clas_modelo\"]:\n",
    "        if comentario[\"clas_modelo\"][clase] != None:\n",
    "            if comentario[\"clas_modelo\"][clase] == -1:\n",
    "                neg += 1\n",
    "            else:\n",
    "                pos +=1\n",
    "print(\"{} .. {}\".format(pos, neg))"
   ]
  },
  {
   "cell_type": "code",
   "execution_count": 8,
   "metadata": {},
   "outputs": [
    {
     "name": "stdout",
     "output_type": "stream",
     "text": [
      "pos:123 .. neu:185 .. neg:36\n"
     ]
    }
   ],
   "source": [
    "pos = 0\n",
    "neg = 0\n",
    "neu = 0\n",
    "for comentario in comentarios:\n",
    "    for clase in comentario[\"clas_tb\"]:\n",
    "        if comentario[\"clas_tb\"][clase] != None:\n",
    "            if comentario[\"clas_tb\"][clase] == 0:\n",
    "                neu += 1\n",
    "            elif comentario[\"clas_tb\"][clase] == 1:\n",
    "                pos += 1\n",
    "            else:\n",
    "                neg += 1\n",
    "print(\"pos:{} .. neu:{} .. neg:{}\".format(pos, neu, neg))"
   ]
  },
  {
   "cell_type": "code",
   "execution_count": 9,
   "metadata": {},
   "outputs": [
    {
     "name": "stdout",
     "output_type": "stream",
     "text": [
      "123 .. 221\n"
     ]
    }
   ],
   "source": [
    "pos = 0\n",
    "neg = 0\n",
    "for comentario in comentarios:\n",
    "    for clase in comentario[\"clas_tb_no_neutro\"]:\n",
    "        if comentario[\"clas_tb_no_neutro\"][clase] != None:\n",
    "            if comentario[\"clas_tb_no_neutro\"][clase] == -1:\n",
    "                neg += 1\n",
    "            else:\n",
    "                pos +=1\n",
    "print(\"{} .. {}\".format(pos, neg))"
   ]
  },
  {
   "cell_type": "code",
   "execution_count": 10,
   "metadata": {},
   "outputs": [
    {
     "name": "stdout",
     "output_type": "stream",
     "text": [
      "pos:120 .. neu:157 .. neg:67\n"
     ]
    }
   ],
   "source": [
    "pos = 0\n",
    "neg = 0\n",
    "neu = 0\n",
    "for comentario in comentarios:\n",
    "    for clase in comentario[\"clas_manual\"]:\n",
    "        if comentario[\"clas_manual\"][clase] != None:\n",
    "            if comentario[\"clas_manual\"][clase] == 0:\n",
    "                neu += 1\n",
    "            elif comentario[\"clas_manual\"][clase] == 1:\n",
    "                pos += 1\n",
    "            else:\n",
    "                neg += 1\n",
    "print(\"pos:{} .. neu:{} .. neg:{}\".format(pos, neu, neg))"
   ]
  },
  {
   "cell_type": "code",
   "execution_count": 11,
   "metadata": {},
   "outputs": [
    {
     "name": "stdout",
     "output_type": "stream",
     "text": [
      "pos:120 .. neu:71 .. neg:153\n"
     ]
    }
   ],
   "source": [
    "pos = 0\n",
    "neg = 0\n",
    "neu = 0\n",
    "for comentario in comentarios:\n",
    "    for clase in comentario[\"clas_modelo_neutro\"]:\n",
    "        if comentario[\"clas_modelo_neutro\"][clase] != None:\n",
    "            if comentario[\"clas_modelo_neutro\"][clase] == 0:\n",
    "                neu += 1\n",
    "            elif comentario[\"clas_modelo_neutro\"][clase] == 1:\n",
    "                pos += 1\n",
    "            else:\n",
    "                neg += 1\n",
    "print(\"pos:{} .. neu:{} .. neg:{}\".format(pos, neu, neg))"
   ]
  },
  {
   "cell_type": "code",
   "execution_count": 12,
   "metadata": {},
   "outputs": [
    {
     "name": "stdout",
     "output_type": "stream",
     "text": [
      "Predicted  -1   0   1\n",
      "Actual               \n",
      "-1         20   0  16\n",
      " 0         76  69  40\n",
      " 1         57   2  64\n"
     ]
    }
   ],
   "source": [
    "lista_actual = list()\n",
    "lista_pred = list()\n",
    "for comentario in comentarios:\n",
    "    for clase in comentario[\"clas_modelo_neutro\"]:\n",
    "        if comentario[\"clas_modelo_neutro\"][clase] != None:\n",
    "            lista_actual.append(comentario[\"clas_tb\"][clase])\n",
    "            lista_pred.append(comentario[\"clas_modelo_neutro\"][clase])\n",
    "\n",
    "import pandas as pd\n",
    "y_actu = pd.Series(lista_actual, name='Actual')\n",
    "y_pred = pd.Series(lista_pred, name='Predicted')\n",
    "df_confusion = pd.crosstab(y_actu, y_pred)\n",
    "print(df_confusion)"
   ]
  }
 ],
 "metadata": {
  "kernelspec": {
   "display_name": "Python 3",
   "language": "python",
   "name": "python3"
  },
  "language_info": {
   "codemirror_mode": {
    "name": "ipython",
    "version": 3
   },
   "file_extension": ".py",
   "mimetype": "text/x-python",
   "name": "python",
   "nbconvert_exporter": "python",
   "pygments_lexer": "ipython3",
   "version": "3.7.1rc2"
  }
 },
 "nbformat": 4,
 "nbformat_minor": 2
}
