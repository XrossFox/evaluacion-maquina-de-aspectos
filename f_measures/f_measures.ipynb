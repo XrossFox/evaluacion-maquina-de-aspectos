{
 "cells": [
  {
   "cell_type": "code",
   "execution_count": 1,
   "metadata": {},
   "outputs": [
    {
     "data": {
      "text/plain": [
       "'\\nhttps://stackoverflow.com/questions/21646791/convert-python-list-to-pandas-series\\nhttps://stackoverflow.com/questions/2148543/how-to-write-a-confusion-matrix-in-python/48087308\\nhttps://scikit-learn.org/stable/modules/generated/sklearn.metrics.f1_score.html\\nhttps://scikit-learn.org/stable/modules/generated/sklearn.metrics.precision_recall_fscore_support.html\\n\\n\\n\\n../datasets/clasificado/comentarios_clasificados.json\\nLeer jsons\\nCrear Matríz de Confusión con Pandas\\nCalcular f-score con scikit\\n'"
      ]
     },
     "execution_count": 1,
     "metadata": {},
     "output_type": "execute_result"
    }
   ],
   "source": [
    "\"\"\"\n",
    "https://stackoverflow.com/questions/21646791/convert-python-list-to-pandas-series\n",
    "https://stackoverflow.com/questions/2148543/how-to-write-a-confusion-matrix-in-python/48087308\n",
    "https://scikit-learn.org/stable/modules/generated/sklearn.metrics.f1_score.html\n",
    "https://scikit-learn.org/stable/modules/generated/sklearn.metrics.precision_recall_fscore_support.html\n",
    "\n",
    "\n",
    "\n",
    "../datasets/clasificado/comentarios_clasificados.json\n",
    "Leer jsons\n",
    "Crear Matríz de Confusión con Pandas\n",
    "Calcular f-score con scikit\n",
    "\"\"\""
   ]
  },
  {
   "cell_type": "code",
   "execution_count": 2,
   "metadata": {},
   "outputs": [
    {
     "name": "stdout",
     "output_type": "stream",
     "text": [
      "[{'aspectos': {'AvailabilityAndScalability': [],\n",
      "               'Deployability': [],\n",
      "               'Interoperability': [],\n",
      "               'Maintainability': [],\n",
      "               'Performance': ['good'],\n",
      "               'Reliability': [],\n",
      "               'Securability': []},\n",
      "  'clas_modelo': {'AvailabilityAndScalability': None,\n",
      "                  'Deployability': None,\n",
      "                  'Interoperability': None,\n",
      "                  'Maintainability': None,\n",
      "                  'Performance': 1,\n",
      "                  'Reliability': None,\n",
      "                  'Securability': None},\n",
      "  'clas_modelo_neutro': {'AvailabilityAndScalability': None,\n",
      "                         'Deployability': None,\n",
      "                         'Interoperability': None,\n",
      "                         'Maintainability': None,\n",
      "                         'Performance': 1,\n",
      "                         'Reliability': None,\n",
      "                         'Securability': None},\n",
      "  'clas_tb': {'AvailabilityAndScalability': None,\n",
      "              'Deployability': None,\n",
      "              'Interoperability': None,\n",
      "              'Maintainability': None,\n",
      "              'Performance': 1,\n",
      "              'Reliability': None,\n",
      "              'Securability': None},\n",
      "  'clas_tb_no_neutro': {'AvailabilityAndScalability': None,\n",
      "                        'Deployability': None,\n",
      "                        'Interoperability': None,\n",
      "                        'Maintainability': None,\n",
      "                        'Performance': 1,\n",
      "                        'Reliability': None,\n",
      "                        'Securability': None},\n",
      "  'comentario': '@petervdl heartbleed happened because someone got the great '\n",
      "                'idea that reusing memory was cheaper than allocating new '\n",
      "                '(cleared) memory, you cannot reuse a string in java, just '\n",
      "                'hope that nobody ever gets the idea to put your char[] into a '\n",
      "                'reuse list for better performance.'},\n",
      " {'aspectos': {'AvailabilityAndScalability': [],\n",
      "               'Deployability': [],\n",
      "               'Interoperability': [],\n",
      "               'Maintainability': ['tight'],\n",
      "               'Performance': [],\n",
      "               'Reliability': [],\n",
      "               'Securability': []},\n",
      "  'clas_modelo': {'AvailabilityAndScalability': None,\n",
      "                  'Deployability': None,\n",
      "                  'Interoperability': None,\n",
      "                  'Maintainability': -1,\n",
      "                  'Performance': None,\n",
      "                  'Reliability': None,\n",
      "                  'Securability': None},\n",
      "  'clas_modelo_neutro': {'AvailabilityAndScalability': None,\n",
      "                         'Deployability': None,\n",
      "                         'Interoperability': None,\n",
      "                         'Maintainability': -1,\n",
      "                         'Performance': None,\n",
      "                         'Reliability': None,\n",
      "                         'Securability': None},\n",
      "  'clas_tb': {'AvailabilityAndScalability': None,\n",
      "              'Deployability': None,\n",
      "              'Interoperability': None,\n",
      "              'Maintainability': -1,\n",
      "              'Performance': None,\n",
      "              'Reliability': None,\n",
      "              'Securability': None},\n",
      "  'clas_tb_no_neutro': {'AvailabilityAndScalability': None,\n",
      "                        'Deployability': None,\n",
      "                        'Interoperability': None,\n",
      "                        'Maintainability': 0,\n",
      "                        'Performance': None,\n",
      "                        'Reliability': None,\n",
      "                        'Securability': None},\n",
      "  'comentario': \"it's referring to the fact that these annotations are good \"\n",
      "                'targets for aop, and while the other annotations do not '\n",
      "                'define a pointcut yet, they might do that in the future. on '\n",
      "                'the other hand @repository is already a target for a pointcut '\n",
      "                'at present. that pointcut is used for exception translations, '\n",
      "                'i.e. translating technology-specific exceptions to more '\n",
      "                'generic spring-based ones, to avoid tight coupling.'}]\n"
     ]
    }
   ],
   "source": [
    "import json\n",
    "from pprint import pprint\n",
    "comentarios = None\n",
    "with open(\"../datasets/clasificado/comentarios_clasificados.json\", mode=\"rt\", encoding=\"utf-8\") as archivo:\n",
    "    comentarios = json.load(archivo)\n",
    "pprint(comentarios[:2])"
   ]
  },
  {
   "cell_type": "code",
   "execution_count": 3,
   "metadata": {},
   "outputs": [],
   "source": [
    "lista_actual = list()\n",
    "lista_pred = list()\n",
    "for comentario in comentarios:\n",
    "    for clase in comentario[\"clas_modelo\"]:\n",
    "        if comentario[\"clas_modelo\"][clase] != None:\n",
    "            lista_actual.append(comentario[\"clas_tb\"][clase])\n",
    "            lista_pred.append(comentario[\"clas_modelo\"][clase])"
   ]
  },
  {
   "cell_type": "code",
   "execution_count": 4,
   "metadata": {},
   "outputs": [
    {
     "name": "stdout",
     "output_type": "stream",
     "text": [
      "Predicted   -1   1\n",
      "Actual            \n",
      "-1          13   7\n",
      " 0         104  21\n",
      " 1          18  53\n"
     ]
    }
   ],
   "source": [
    "import pandas as pd\n",
    "y_actu = pd.Series(lista_actual, name='Actual')\n",
    "y_pred = pd.Series(lista_pred, name='Predicted')\n",
    "df_confusion = pd.crosstab(y_actu, y_pred)\n",
    "print(df_confusion)"
   ]
  },
  {
   "cell_type": "code",
   "execution_count": 8,
   "metadata": {},
   "outputs": [
    {
     "name": "stdout",
     "output_type": "stream",
     "text": [
      "81 .. 135\n"
     ]
    }
   ],
   "source": [
    "pos = 0\n",
    "neg = 0\n",
    "for comentario in comentarios:\n",
    "    for clase in comentario[\"clas_modelo\"]:\n",
    "        if comentario[\"clas_modelo\"][clase] != None:\n",
    "            if comentario[\"clas_modelo\"][clase] == -1:\n",
    "                neg += 1\n",
    "            else:\n",
    "                pos +=1\n",
    "print(\"{} .. {}\".format(pos, neg))"
   ]
  },
  {
   "cell_type": "code",
   "execution_count": 6,
   "metadata": {},
   "outputs": [
    {
     "name": "stdout",
     "output_type": "stream",
     "text": [
      "pos:71 .. neu:125 .. neg:20\n"
     ]
    }
   ],
   "source": [
    "pos = 0\n",
    "neg = 0\n",
    "neu = 0\n",
    "for comentario in comentarios:\n",
    "    for clase in comentario[\"clas_tb\"]:\n",
    "        if comentario[\"clas_tb\"][clase] != None:\n",
    "            if comentario[\"clas_tb\"][clase] == 0:\n",
    "                neu += 1\n",
    "            elif comentario[\"clas_tb\"][clase] == 1:\n",
    "                pos += 1\n",
    "            else:\n",
    "                neg += 1\n",
    "print(\"pos:{} .. neu:{} .. neg:{}\".format(pos, neu, neg))"
   ]
  },
  {
   "cell_type": "code",
   "execution_count": 10,
   "metadata": {},
   "outputs": [
    {
     "name": "stdout",
     "output_type": "stream",
     "text": [
      "pos:81 .. neu:46 .. neg:89\n"
     ]
    }
   ],
   "source": [
    "pos = 0\n",
    "neg = 0\n",
    "neu = 0\n",
    "for comentario in comentarios:\n",
    "    for clase in comentario[\"clas_modelo_neutro\"]:\n",
    "        if comentario[\"clas_modelo_neutro\"][clase] != None:\n",
    "            if comentario[\"clas_modelo_neutro\"][clase] == 0:\n",
    "                neu += 1\n",
    "            elif comentario[\"clas_modelo_neutro\"][clase] == 1:\n",
    "                pos += 1\n",
    "            else:\n",
    "                neg += 1\n",
    "print(\"pos:{} .. neu:{} .. neg:{}\".format(pos, neu, neg))"
   ]
  },
  {
   "cell_type": "code",
   "execution_count": 11,
   "metadata": {},
   "outputs": [
    {
     "name": "stdout",
     "output_type": "stream",
     "text": [
      "Predicted  -1   0   1\n",
      "Actual               \n",
      "-1         13   0   7\n",
      " 0         58  46  21\n",
      " 1         18   0  53\n"
     ]
    }
   ],
   "source": [
    "lista_actual = list()\n",
    "lista_pred = list()\n",
    "for comentario in comentarios:\n",
    "    for clase in comentario[\"clas_modelo_neutro\"]:\n",
    "        if comentario[\"clas_modelo_neutro\"][clase] != None:\n",
    "            lista_actual.append(comentario[\"clas_tb\"][clase])\n",
    "            lista_pred.append(comentario[\"clas_modelo_neutro\"][clase])\n",
    "\n",
    "import pandas as pd\n",
    "y_actu = pd.Series(lista_actual, name='Actual')\n",
    "y_pred = pd.Series(lista_pred, name='Predicted')\n",
    "df_confusion = pd.crosstab(y_actu, y_pred)\n",
    "print(df_confusion)"
   ]
  }
 ],
 "metadata": {
  "kernelspec": {
   "display_name": "Python 3",
   "language": "python",
   "name": "python3"
  },
  "language_info": {
   "codemirror_mode": {
    "name": "ipython",
    "version": 3
   },
   "file_extension": ".py",
   "mimetype": "text/x-python",
   "name": "python",
   "nbconvert_exporter": "python",
   "pygments_lexer": "ipython3",
   "version": "3.7.1rc2"
  }
 },
 "nbformat": 4,
 "nbformat_minor": 2
}
